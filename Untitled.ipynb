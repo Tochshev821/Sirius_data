{
 "cells": [
  {
   "cell_type": "code",
   "execution_count": 1,
   "id": "0500f941-4aca-48af-9f06-fa17807fb221",
   "metadata": {},
   "outputs": [],
   "source": [
    "import pandas as pd\n",
    "import seaborn as sns\n",
    "import numpy as np"
   ]
  },
  {
   "cell_type": "code",
   "execution_count": 34,
   "id": "bd606808-5be4-4e13-95fa-7ee751e3010c",
   "metadata": {},
   "outputs": [],
   "source": [
    "\n",
    "data = pd.read_csv('dannye.csv', delimiter = ';')\n",
    "#data= pd.read_csv('kek.csv', sep=',', error_bad_lines=False)\n",
    "data.tail(50)"
   ]
  },
  {
   "cell_type": "code",
   "execution_count": 44,
   "id": "b1fd1577-90b3-410d-a1eb-1fb373036037",
   "metadata": {},
   "outputs": [
    {
     "name": "stderr",
     "output_type": "stream",
     "text": [
      "IOPub data rate exceeded.\n",
      "The Jupyter server will temporarily stop sending output\n",
      "to the client in order to avoid crashing it.\n",
      "To change this limit, set the config variable\n",
      "`--ServerApp.iopub_data_rate_limit`.\n",
      "\n",
      "Current values:\n",
      "ServerApp.iopub_data_rate_limit=1000000.0 (bytes/sec)\n",
      "ServerApp.rate_limit_window=3.0 (secs)\n",
      "\n"
     ]
    }
   ],
   "source": [
    "\n",
    "# import csv\n",
    "\n",
    "# with open('dannye.csv') as f:\n",
    "#     reader = csv.reader(f)\n",
    "#     for row in reader:\n",
    "#         print(row)\n",
    "import codecs\n",
    "file = codecs.open( \"dannye.csv\", \"r\", \"utf-8\" )\n",
    "data = file.read()\n",
    "#file .close()\n",
    "print(data)"
   ]
  },
  {
   "cell_type": "code",
   "execution_count": null,
   "id": "a48d68a6-2083-4cf3-9a34-0f0a99b52360",
   "metadata": {},
   "outputs": [],
   "source": []
  }
 ],
 "metadata": {
  "kernelspec": {
   "display_name": "Python 3",
   "language": "python",
   "name": "python3"
  },
  "language_info": {
   "codemirror_mode": {
    "name": "ipython",
    "version": 3
   },
   "file_extension": ".py",
   "mimetype": "text/x-python",
   "name": "python",
   "nbconvert_exporter": "python",
   "pygments_lexer": "ipython3",
   "version": "3.9.4"
  }
 },
 "nbformat": 4,
 "nbformat_minor": 5
}
